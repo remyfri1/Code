{
 "cells": [
  {
   "attachments": {},
   "cell_type": "markdown",
   "id": "769041f7-28e2-44ca-8437-a952dd69027e",
   "metadata": {
    "tags": []
   },
   "source": [
    "# Web sracper for Immoscout.ch"
   ]
  },
  {
   "cell_type": "code",
   "execution_count": null,
   "id": "3d6eabbb-651b-4bef-bf0c-12a089164a9b",
   "metadata": {
    "tags": []
   },
   "outputs": [],
   "source": [
    "from bs4 import BeautifulSoup\n",
    "from requests import get\n",
    "from lxml import etree\n",
    "\n",
    "import csv\n",
    "import time\n",
    "import pandas as pd\n",
    "import itertools\n",
    "import matplotlib.pyplot as plt\n",
    "import seaborn as sns\n",
    "sns.set()"
   ]
  },
  {
   "cell_type": "code",
   "execution_count": null,
   "id": "5dd54cbe-8a7e-4e88-9c22-03a9904fbfc7",
   "metadata": {
    "tags": []
   },
   "outputs": [],
   "source": [
    "headers = headers = ({'User-Agent': 'Mozilla/5.0 (iPad; CPU OS 12_2 like Mac OS X) AppleWebKit/605.1.15 (KHTML, like Gecko) Mobile/15E148'})"
   ]
  },
  {
   "cell_type": "code",
   "execution_count": null,
   "id": "3d958371-2354-4b4c-8106-f9677edb87a1",
   "metadata": {
    "tags": []
   },
   "outputs": [],
   "source": [
    "base_url = \"https://www.immoscout24.ch/de/immobilien/mieten/kanton-{}\"\n",
    "cantons = [\"zuerich\", \"bern\", \"luzern\", \"uri\", \"schwyz\", \"obwalden\", \"nidwalden\", \"glarus\", \"zug\", \"freiburg\", \n",
    "           \"solothurn\", \"basel-stadt\", \"basel-landschaft\", \"schaffhausen\", \"appenzell-ai\", \n",
    "           \"appenzell-ar\", \"st-gallen\", \"graubuenden\", \"aargau\", \"thurgau\", \"tessin\", \"waadt\", \"wallis\", \n",
    "           \"neuenburg\", \"genf\", \"jura\"]"
   ]
  },
  {
   "cell_type": "code",
   "execution_count": null,
   "id": "b3a188cb-f87e-467d-9f48-a45d653a8221",
   "metadata": {
    "tags": []
   },
   "outputs": [],
   "source": [
    "# Define the base URL and page range\n",
    "base_url = \"https://www.immoscout24.ch/de/immobilien/mieten/kanton-{}\"\n",
    "\n",
    "for canton in cantons:\n",
    "    # Create an empty list to store the results\n",
    "    results = []\n",
    "    print(str(canton))\n",
    "    \n",
    "    canton_url = base_url.format(canton)\n",
    "    response = get(canton_url, headers=headers)\n",
    "    soup = BeautifulSoup(response.content, \"html.parser\")\n",
    "       \n",
    "    pages = range(1, 43)\n",
    "    \n",
    "    # Loop through each page and scrape the data\n",
    "    for page in pages:\n",
    "        url = f\"{canton_url}?pn={page}\"\n",
    "        print(str(page))\n",
    "        response = get(url,headers=headers)\n",
    "        soup = BeautifulSoup(response.content, \"html.parser\")\n",
    "        entries = soup.find_all(\"div\", {\"class\": \"Content-sVEls kfPvCj\"})\n",
    "        for entry in entries:\n",
    "            header_elem = entry.find(\"h3\", {\"class\": \"Box-cYFBPY hKJGPR Heading-daBLVV dOtgYu\"})\n",
    "            if header_elem is not None:\n",
    "                header = header_elem.text.strip()\n",
    "                header = header.replace(' Zimmer', '').replace(' m²', '').replace(' (m², Jahr)', '').replace(' CHF','').replace('CHF','').replace('.—','').replace('EUR ', '').replace('EUR', '').replace('Preis auf Anfrage','').replace('(Monat)','').replace('(Jahr)','').replace('(Woche)','').replace('(Tag)','')\n",
    "            else:\n",
    "                header = ''\n",
    "\n",
    "            address_elem = entry.find(\"span\", {\"class\": \"AddressLine__TextStyled-eaUAMD iBNjyG\"})\n",
    "            if address_elem is not None:\n",
    "                address = address_elem.text.strip()\n",
    "            else:\n",
    "                address = ''\n",
    "\n",
    "            title_elem = entry.find(\"h2\", {\"class\": \"Box-cYFBPY gbsxmK Title__TitleStyled-JDiVe zBlIG\"})\n",
    "            if title_elem is not None:\n",
    "                title = title_elem.text.strip()\n",
    "            else:\n",
    "                title = ''\n",
    "\n",
    "            desc_elem = entry.find(\"p\", {\"class\": \"Box-cYFBPY wYYQQ\"})\n",
    "            if desc_elem is not None:\n",
    "                description = desc_elem.text.strip()\n",
    "            else:\n",
    "                description = ''\n",
    "\n",
    "            result = {\"header\": header, \"address\": address, \"title\": title, \"description\": description}\n",
    "            results.append(result)\n",
    "            #time.sleep(random.uniform(1, 3))\n",
    "            \n",
    "    print(len(results))\n",
    "    filename = f\"{canton}.csv\"\n",
    "    df = pd.DataFrame(results)\n",
    "    # Save the dataframe as a CSV file\n",
    "    df.to_csv(filename, index=False)"
   ]
  },
  {
   "cell_type": "code",
   "execution_count": null,
   "id": "88f53c9a-278b-46ad-90fd-eb98d9e28126",
   "metadata": {},
   "outputs": [],
   "source": []
  }
 ],
 "metadata": {
  "kernelspec": {
   "display_name": "Python 3 (ipykernel)",
   "language": "python",
   "name": "python3"
  },
  "language_info": {
   "codemirror_mode": {
    "name": "ipython",
    "version": 3
   },
   "file_extension": ".py",
   "mimetype": "text/x-python",
   "name": "python",
   "nbconvert_exporter": "python",
   "pygments_lexer": "ipython3",
   "version": "3.10.9"
  }
 },
 "nbformat": 4,
 "nbformat_minor": 5
}

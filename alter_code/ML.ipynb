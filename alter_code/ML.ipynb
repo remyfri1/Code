{
 "cells": [
  {
   "cell_type": "code",
   "execution_count": 11,
   "id": "ae5b5fcd-3af8-4bb2-9a5e-ba14bc6b9050",
   "metadata": {
    "tags": []
   },
   "outputs": [
    {
     "data": {
      "text/html": [
       "<div>\n",
       "<style scoped>\n",
       "    .dataframe tbody tr th:only-of-type {\n",
       "        vertical-align: middle;\n",
       "    }\n",
       "\n",
       "    .dataframe tbody tr th {\n",
       "        vertical-align: top;\n",
       "    }\n",
       "\n",
       "    .dataframe thead th {\n",
       "        text-align: right;\n",
       "    }\n",
       "</style>\n",
       "<table border=\"1\" class=\"dataframe\">\n",
       "  <thead>\n",
       "    <tr style=\"text-align: right;\">\n",
       "      <th></th>\n",
       "      <th>Rooms</th>\n",
       "      <th>Footage</th>\n",
       "      <th>Rent</th>\n",
       "      <th>address</th>\n",
       "      <th>title</th>\n",
       "      <th>description</th>\n",
       "      <th>street</th>\n",
       "      <th>city</th>\n",
       "      <th>canton</th>\n",
       "      <th>Address_Latitude</th>\n",
       "      <th>Address_Longitude</th>\n",
       "      <th>City_Latitude</th>\n",
       "      <th>City_Longitude</th>\n",
       "      <th>Distance_to_City_Center(km)</th>\n",
       "    </tr>\n",
       "  </thead>\n",
       "  <tbody>\n",
       "    <tr>\n",
       "      <th>0</th>\n",
       "      <td>5.5</td>\n",
       "      <td>150</td>\n",
       "      <td>2480</td>\n",
       "      <td>Hofackerstrasse 6, 8444 Henggart, ZH</td>\n",
       "      <td>«Tolle 5.5-Zimmer-Maisonettewohnung an bevorzu...</td>\n",
       "      <td>Wir vermieten per 1. Oktober 2023 eine moderne...</td>\n",
       "      <td>Hofackerstrasse 6</td>\n",
       "      <td>8444 Henggart</td>\n",
       "      <td>ZH</td>\n",
       "      <td>47.563207</td>\n",
       "      <td>8.684111</td>\n",
       "      <td>47.563229</td>\n",
       "      <td>8.683573</td>\n",
       "      <td>0.040428</td>\n",
       "    </tr>\n",
       "    <tr>\n",
       "      <th>1</th>\n",
       "      <td>3.5</td>\n",
       "      <td>63</td>\n",
       "      <td>1740</td>\n",
       "      <td>Schmittegass 11, 8197 Rafz, ZH</td>\n",
       "      <td>«Schöne Neubau-Wohnung an zentraler Lage»</td>\n",
       "      <td>NaN</td>\n",
       "      <td>Schmittegass 11</td>\n",
       "      <td>8197 Rafz</td>\n",
       "      <td>ZH</td>\n",
       "      <td>47.612987</td>\n",
       "      <td>8.537849</td>\n",
       "      <td>47.611593</td>\n",
       "      <td>8.540267</td>\n",
       "      <td>0.238491</td>\n",
       "    </tr>\n",
       "    <tr>\n",
       "      <th>2</th>\n",
       "      <td>3.5</td>\n",
       "      <td>104</td>\n",
       "      <td>2270</td>\n",
       "      <td>Zürcherstrasse 163, 8406 Winterthur, ZH</td>\n",
       "      <td>«Grosszügige Wohnung in Winterthur»</td>\n",
       "      <td>NaN</td>\n",
       "      <td>Zürcherstrasse 163</td>\n",
       "      <td>8406 Winterthur</td>\n",
       "      <td>ZH</td>\n",
       "      <td>47.491548</td>\n",
       "      <td>8.706753</td>\n",
       "      <td>47.499172</td>\n",
       "      <td>8.729150</td>\n",
       "      <td>1.884125</td>\n",
       "    </tr>\n",
       "    <tr>\n",
       "      <th>3</th>\n",
       "      <td>3.5</td>\n",
       "      <td>83</td>\n",
       "      <td>2290</td>\n",
       "      <td>Usterstrasse 125, 8620 Wetzikon ZH, ZH</td>\n",
       "      <td>«Erstvermietung - 3.5 Zimmerwohnung zu vermieten»</td>\n",
       "      <td>NaN</td>\n",
       "      <td>Usterstrasse 125</td>\n",
       "      <td>8620 Wetzikon ZH</td>\n",
       "      <td>ZH</td>\n",
       "      <td>47.329180</td>\n",
       "      <td>8.784965</td>\n",
       "      <td>47.322693</td>\n",
       "      <td>8.798094</td>\n",
       "      <td>1.224594</td>\n",
       "    </tr>\n",
       "    <tr>\n",
       "      <th>4</th>\n",
       "      <td>2.5</td>\n",
       "      <td>57</td>\n",
       "      <td>1580</td>\n",
       "      <td>Mörlerstrasse 22, 8248 Uhwiesen, ZH</td>\n",
       "      <td>«Moderne, sonnige 2,5-Zimmerwohnung an ruhiger...</td>\n",
       "      <td>NaN</td>\n",
       "      <td>Mörlerstrasse 22</td>\n",
       "      <td>8248 Uhwiesen</td>\n",
       "      <td>ZH</td>\n",
       "      <td>47.669667</td>\n",
       "      <td>8.641022</td>\n",
       "      <td>47.670994</td>\n",
       "      <td>8.635098</td>\n",
       "      <td>0.467456</td>\n",
       "    </tr>\n",
       "  </tbody>\n",
       "</table>\n",
       "</div>"
      ],
      "text/plain": [
       "   Rooms  Footage  Rent                                  address   \n",
       "0    5.5      150  2480     Hofackerstrasse 6, 8444 Henggart, ZH  \\\n",
       "1    3.5       63  1740           Schmittegass 11, 8197 Rafz, ZH   \n",
       "2    3.5      104  2270  Zürcherstrasse 163, 8406 Winterthur, ZH   \n",
       "3    3.5       83  2290   Usterstrasse 125, 8620 Wetzikon ZH, ZH   \n",
       "4    2.5       57  1580      Mörlerstrasse 22, 8248 Uhwiesen, ZH   \n",
       "\n",
       "                                               title   \n",
       "0  «Tolle 5.5-Zimmer-Maisonettewohnung an bevorzu...  \\\n",
       "1          «Schöne Neubau-Wohnung an zentraler Lage»   \n",
       "2                «Grosszügige Wohnung in Winterthur»   \n",
       "3  «Erstvermietung - 3.5 Zimmerwohnung zu vermieten»   \n",
       "4  «Moderne, sonnige 2,5-Zimmerwohnung an ruhiger...   \n",
       "\n",
       "                                         description              street   \n",
       "0  Wir vermieten per 1. Oktober 2023 eine moderne...   Hofackerstrasse 6  \\\n",
       "1                                                NaN     Schmittegass 11   \n",
       "2                                                NaN  Zürcherstrasse 163   \n",
       "3                                                NaN    Usterstrasse 125   \n",
       "4                                                NaN    Mörlerstrasse 22   \n",
       "\n",
       "               city canton  Address_Latitude  Address_Longitude   \n",
       "0     8444 Henggart     ZH         47.563207           8.684111  \\\n",
       "1         8197 Rafz     ZH         47.612987           8.537849   \n",
       "2   8406 Winterthur     ZH         47.491548           8.706753   \n",
       "3  8620 Wetzikon ZH     ZH         47.329180           8.784965   \n",
       "4     8248 Uhwiesen     ZH         47.669667           8.641022   \n",
       "\n",
       "   City_Latitude  City_Longitude  Distance_to_City_Center(km)  \n",
       "0      47.563229        8.683573                     0.040428  \n",
       "1      47.611593        8.540267                     0.238491  \n",
       "2      47.499172        8.729150                     1.884125  \n",
       "3      47.322693        8.798094                     1.224594  \n",
       "4      47.670994        8.635098                     0.467456  "
      ]
     },
     "execution_count": 11,
     "metadata": {},
     "output_type": "execute_result"
    }
   ],
   "source": [
    "import pandas as pd\n",
    "import numpy as np\n",
    "from sklearn.model_selection import train_test_split\n",
    "from sklearn.linear_model import LinearRegression\n",
    "from sklearn.metrics import mean_squared_error, r2_score\n",
    "from sklearn.preprocessing import StandardScaler\n",
    "from sklearn.model_selection import GridSearchCV, KFold\n",
    "from tensorflow.keras.models import Sequential\n",
    "from tensorflow.keras.layers import Dense\n",
    "from tensorflow.keras.wrappers.scikit_learn import KerasRegressor\n",
    "\n",
    "# Load the cleaned dataset\n",
    "df = pd.read_csv(\"swiss_no_outliers_and_cleaned.csv\")\n",
    "df.head()"
   ]
  },
  {
   "cell_type": "code",
   "execution_count": 5,
   "id": "072430fc-1b33-4a93-bc4d-32e8b4de376a",
   "metadata": {
    "tags": []
   },
   "outputs": [],
   "source": [
    "# Select features and target variable\n",
    "#?# X sind die features mit denen Y ermittelt wird. Demfalls ist Y das target\n",
    "X = df[[\"Rooms\", \"Footage\", \"Distance_to_City_Center(km)\", \"Address_Latitude\", \"Address_Longitude\"]]\n",
    "y = df[\"Rent\"]\n",
    "\n",
    "# Split the dataset into training and testing sets\n",
    "#?# wieso ist y klein geschrieben, wieso muss nur die test_size angegeben (ang. 20% und 80%)\n",
    "#?# wieso hat man zwei sets Xtrain und X test ist das gehören Xtest und xtest zusammen oder x\n",
    "X_train, X_test, y_train, y_test = train_test_split(X, y, test_size=0.2, random_state=42)\n"
   ]
  },
  {
   "cell_type": "code",
   "execution_count": 6,
   "id": "efd4c55d-c5a6-4c54-b967-78ceab296624",
   "metadata": {
    "tags": []
   },
   "outputs": [],
   "source": [
    "#!# hier wird das Model erzeugt mittels Tensorflow.keras\n",
    "def create_model(optimizer=\"adam\", neurons=10):\n",
    "    model = Sequential()\n",
    "    model.add(Dense(neurons, input_dim=5, activation=\"relu\"))\n",
    "    model.add(Dense(1))\n",
    "    model.compile(loss=\"mean_squared_error\", optimizer=optimizer)\n",
    "    return model"
   ]
  },
  {
   "cell_type": "code",
   "execution_count": 7,
   "id": "f2249760",
   "metadata": {},
   "outputs": [],
   "source": [
    "#!# alternativ model using RNN -- Was very bad --\n",
    "from tensorflow.keras.models import Sequential\n",
    "from tensorflow.keras.layers import SimpleRNN, Dense\n",
    "\n",
    "def create_model(optimizer=\"adam\", neurons=10):\n",
    "    model = Sequential()\n",
    "    model.add(SimpleRNN(neurons, input_shape=(5, 1), activation=\"relu\"))\n",
    "    model.add(Dense(1))\n",
    "    model.compile(loss=\"mean_squared_error\", optimizer=optimizer)\n",
    "    return model\n"
   ]
  },
  {
   "cell_type": "code",
   "execution_count": null,
   "id": "f9f41e7d",
   "metadata": {},
   "outputs": [],
   "source": [
    "#$# this is extra and not needed and for visual purposes only\n",
    "from tensorflow.keras.callbacks import TensorBoard\n",
    "\n",
    "model = create_model()\n",
    "tensorboard_callback = TensorBoard(log_dir=\"./logs\", histogram_freq=1)\n",
    "model.fit(X_train, y_train, epochs=10, callbacks=[tensorboard_callback])\n",
    "%tensorboard --logdir= /logs/train\n"
   ]
  },
  {
   "cell_type": "code",
   "execution_count": 8,
   "id": "026d1b7d-ccdb-46f6-ad1b-76a11b62d4fa",
   "metadata": {
    "tags": []
   },
   "outputs": [
    {
     "name": "stderr",
     "output_type": "stream",
     "text": [
      "C:\\Users\\remy\\AppData\\Local\\Temp\\ipykernel_9108\\2423034373.py:1: DeprecationWarning: KerasRegressor is deprecated, use Sci-Keras (https://github.com/adriangb/scikeras) instead. See https://www.adriangb.com/scikeras/stable/migration.html for help migrating.\n",
      "  regressor = KerasRegressor(build_fn=create_model, verbose=0)\n"
     ]
    }
   ],
   "source": [
    "regressor = KerasRegressor(build_fn=create_model, verbose=0)"
   ]
  },
  {
   "cell_type": "code",
   "execution_count": null,
   "id": "2446cb4e-c131-4f0c-8795-78dccaa43dab",
   "metadata": {},
   "outputs": [],
   "source": [
    "#ETA 17min\n",
    "param_grid = {\n",
    "    \"optimizer\": [\"adam\", \"rmsprop\"],\n",
    "    \"neurons\": [5, 10, 15],\n",
    "    \"epochs\": [5, 100],\n",
    "    \"batch_size\": [16, 32],\n",
    "}"
   ]
  },
  {
   "cell_type": "code",
   "execution_count": 9,
   "id": "3e483c82-bb31-4a58-984a-2f40bd83debf",
   "metadata": {
    "tags": []
   },
   "outputs": [],
   "source": [
    "#ETA 4min\n",
    "param_grid = {\n",
    "    \"optimizer\": [\"adam\", \"rmsprop\"],\n",
    "    \"neurons\": [5, 10],\n",
    "    \"epochs\": [20, 40],\n",
    "    \"batch_size\": [32, 64],\n",
    "}"
   ]
  },
  {
   "cell_type": "code",
   "execution_count": 10,
   "id": "473e154d-f399-44a3-b29f-8c2952b33a7a",
   "metadata": {
    "tags": []
   },
   "outputs": [
    {
     "name": "stdout",
     "output_type": "stream",
     "text": [
      "Fitting 5 folds for each of 16 candidates, totalling 80 fits\n",
      "[CV] END batch_size=32, epochs=20, neurons=5, optimizer=adam; total time=   7.9s\n",
      "[CV] END batch_size=32, epochs=20, neurons=5, optimizer=adam; total time=   6.8s\n",
      "[CV] END batch_size=32, epochs=20, neurons=5, optimizer=adam; total time=   7.0s\n",
      "[CV] END batch_size=32, epochs=20, neurons=5, optimizer=adam; total time=   6.7s\n",
      "[CV] END batch_size=32, epochs=20, neurons=5, optimizer=adam; total time=   7.0s\n",
      "[CV] END batch_size=32, epochs=20, neurons=5, optimizer=rmsprop; total time=   6.6s\n",
      "[CV] END batch_size=32, epochs=20, neurons=5, optimizer=rmsprop; total time=   7.0s\n",
      "[CV] END batch_size=32, epochs=20, neurons=5, optimizer=rmsprop; total time=   6.8s\n",
      "[CV] END batch_size=32, epochs=20, neurons=5, optimizer=rmsprop; total time=   6.6s\n",
      "[CV] END batch_size=32, epochs=20, neurons=5, optimizer=rmsprop; total time=   7.7s\n",
      "[CV] END batch_size=32, epochs=20, neurons=10, optimizer=adam; total time=   7.3s\n",
      "[CV] END batch_size=32, epochs=20, neurons=10, optimizer=adam; total time=   7.0s\n",
      "[CV] END batch_size=32, epochs=20, neurons=10, optimizer=adam; total time=   7.0s\n",
      "[CV] END batch_size=32, epochs=20, neurons=10, optimizer=adam; total time=   7.2s\n",
      "[CV] END batch_size=32, epochs=20, neurons=10, optimizer=adam; total time=   7.5s\n",
      "[CV] END batch_size=32, epochs=20, neurons=10, optimizer=rmsprop; total time=   7.4s\n",
      "[CV] END batch_size=32, epochs=20, neurons=10, optimizer=rmsprop; total time=   7.1s\n",
      "[CV] END batch_size=32, epochs=20, neurons=10, optimizer=rmsprop; total time=   6.6s\n",
      "[CV] END batch_size=32, epochs=20, neurons=10, optimizer=rmsprop; total time=   6.1s\n",
      "[CV] END batch_size=32, epochs=20, neurons=10, optimizer=rmsprop; total time=   7.0s\n",
      "[CV] END batch_size=32, epochs=40, neurons=5, optimizer=adam; total time=  12.5s\n",
      "[CV] END batch_size=32, epochs=40, neurons=5, optimizer=adam; total time=  12.4s\n",
      "[CV] END batch_size=32, epochs=40, neurons=5, optimizer=adam; total time=  12.3s\n",
      "[CV] END batch_size=32, epochs=40, neurons=5, optimizer=adam; total time=  12.9s\n",
      "[CV] END batch_size=32, epochs=40, neurons=5, optimizer=adam; total time=  12.2s\n",
      "[CV] END batch_size=32, epochs=40, neurons=5, optimizer=rmsprop; total time=  11.5s\n",
      "[CV] END batch_size=32, epochs=40, neurons=5, optimizer=rmsprop; total time=  11.4s\n",
      "[CV] END batch_size=32, epochs=40, neurons=5, optimizer=rmsprop; total time=  12.0s\n",
      "[CV] END batch_size=32, epochs=40, neurons=5, optimizer=rmsprop; total time=  11.8s\n",
      "[CV] END batch_size=32, epochs=40, neurons=5, optimizer=rmsprop; total time=  11.8s\n",
      "[CV] END batch_size=32, epochs=40, neurons=10, optimizer=adam; total time=  12.9s\n",
      "[CV] END batch_size=32, epochs=40, neurons=10, optimizer=adam; total time=  12.3s\n",
      "[CV] END batch_size=32, epochs=40, neurons=10, optimizer=adam; total time=  12.4s\n",
      "[CV] END batch_size=32, epochs=40, neurons=10, optimizer=adam; total time=  12.5s\n",
      "[CV] END batch_size=32, epochs=40, neurons=10, optimizer=adam; total time=  12.1s\n",
      "[CV] END batch_size=32, epochs=40, neurons=10, optimizer=rmsprop; total time=  12.0s\n",
      "[CV] END batch_size=32, epochs=40, neurons=10, optimizer=rmsprop; total time=  12.2s\n",
      "[CV] END batch_size=32, epochs=40, neurons=10, optimizer=rmsprop; total time=  11.8s\n",
      "[CV] END batch_size=32, epochs=40, neurons=10, optimizer=rmsprop; total time=  12.0s\n",
      "[CV] END batch_size=32, epochs=40, neurons=10, optimizer=rmsprop; total time=  12.0s\n",
      "[CV] END batch_size=64, epochs=20, neurons=5, optimizer=adam; total time=   4.8s\n",
      "[CV] END batch_size=64, epochs=20, neurons=5, optimizer=adam; total time=   4.5s\n",
      "[CV] END batch_size=64, epochs=20, neurons=5, optimizer=adam; total time=   4.3s\n",
      "[CV] END batch_size=64, epochs=20, neurons=5, optimizer=adam; total time=   4.3s\n",
      "[CV] END batch_size=64, epochs=20, neurons=5, optimizer=adam; total time=   4.3s\n",
      "[CV] END batch_size=64, epochs=20, neurons=5, optimizer=rmsprop; total time=   4.0s\n",
      "[CV] END batch_size=64, epochs=20, neurons=5, optimizer=rmsprop; total time=   4.0s\n",
      "[CV] END batch_size=64, epochs=20, neurons=5, optimizer=rmsprop; total time=   4.0s\n",
      "[CV] END batch_size=64, epochs=20, neurons=5, optimizer=rmsprop; total time=   4.0s\n",
      "[CV] END batch_size=64, epochs=20, neurons=5, optimizer=rmsprop; total time=   3.9s\n",
      "[CV] END batch_size=64, epochs=20, neurons=10, optimizer=adam; total time=   4.2s\n",
      "[CV] END batch_size=64, epochs=20, neurons=10, optimizer=adam; total time=   4.9s\n",
      "[CV] END batch_size=64, epochs=20, neurons=10, optimizer=adam; total time=   4.3s\n",
      "[CV] END batch_size=64, epochs=20, neurons=10, optimizer=adam; total time=   4.3s\n",
      "[CV] END batch_size=64, epochs=20, neurons=10, optimizer=adam; total time=   4.4s\n",
      "[CV] END batch_size=64, epochs=20, neurons=10, optimizer=rmsprop; total time=   4.0s\n",
      "[CV] END batch_size=64, epochs=20, neurons=10, optimizer=rmsprop; total time=   4.0s\n",
      "[CV] END batch_size=64, epochs=20, neurons=10, optimizer=rmsprop; total time=   4.0s\n",
      "[CV] END batch_size=64, epochs=20, neurons=10, optimizer=rmsprop; total time=   3.9s\n",
      "[CV] END batch_size=64, epochs=20, neurons=10, optimizer=rmsprop; total time=   4.0s\n",
      "[CV] END batch_size=64, epochs=40, neurons=5, optimizer=adam; total time=   7.1s\n",
      "[CV] END batch_size=64, epochs=40, neurons=5, optimizer=adam; total time=   7.5s\n",
      "[CV] END batch_size=64, epochs=40, neurons=5, optimizer=adam; total time=   7.1s\n",
      "[CV] END batch_size=64, epochs=40, neurons=5, optimizer=adam; total time=   7.0s\n",
      "[CV] END batch_size=64, epochs=40, neurons=5, optimizer=adam; total time=   7.1s\n",
      "[CV] END batch_size=64, epochs=40, neurons=5, optimizer=rmsprop; total time=   6.8s\n",
      "[CV] END batch_size=64, epochs=40, neurons=5, optimizer=rmsprop; total time=   6.9s\n",
      "[CV] END batch_size=64, epochs=40, neurons=5, optimizer=rmsprop; total time=   6.5s\n",
      "[CV] END batch_size=64, epochs=40, neurons=5, optimizer=rmsprop; total time=   6.2s\n",
      "[CV] END batch_size=64, epochs=40, neurons=5, optimizer=rmsprop; total time=   6.3s\n",
      "[CV] END batch_size=64, epochs=40, neurons=10, optimizer=adam; total time=   6.6s\n",
      "[CV] END batch_size=64, epochs=40, neurons=10, optimizer=adam; total time=   6.9s\n",
      "[CV] END batch_size=64, epochs=40, neurons=10, optimizer=adam; total time=   7.5s\n",
      "[CV] END batch_size=64, epochs=40, neurons=10, optimizer=adam; total time=   7.0s\n",
      "[CV] END batch_size=64, epochs=40, neurons=10, optimizer=adam; total time=   6.8s\n",
      "[CV] END batch_size=64, epochs=40, neurons=10, optimizer=rmsprop; total time=   6.5s\n",
      "[CV] END batch_size=64, epochs=40, neurons=10, optimizer=rmsprop; total time=   6.5s\n",
      "[CV] END batch_size=64, epochs=40, neurons=10, optimizer=rmsprop; total time=   6.6s\n",
      "[CV] END batch_size=64, epochs=40, neurons=10, optimizer=rmsprop; total time=   6.7s\n",
      "[CV] END batch_size=64, epochs=40, neurons=10, optimizer=rmsprop; total time=   6.7s\n"
     ]
    }
   ],
   "source": [
    "grid_search = GridSearchCV(estimator=regressor, param_grid=param_grid, cv=KFold(n_splits=5), verbose=2)\n",
    "grid_result = grid_search.fit(X_train, y_train)\n"
   ]
  },
  {
   "cell_type": "code",
   "execution_count": 12,
   "id": "a2a96a89-250d-4272-bd58-73577a776676",
   "metadata": {},
   "outputs": [
    {
     "name": "stdout",
     "output_type": "stream",
     "text": [
      "53/53 [==============================] - 0s 1ms/step - loss: 182024.6562\n",
      "Test loss: 182024.65625\n"
     ]
    }
   ],
   "source": [
    "#unsure if this works but i want to evalute the model here\n",
    "best_model = grid_result.best_estimator_.model\n",
    "test_loss = best_model.evaluate(X_test, y_test)\n",
    "print('Test loss:', test_loss)"
   ]
  },
  {
   "cell_type": "code",
   "execution_count": 13,
   "id": "1fdc0169-ffe5-4ab2-98cc-19ea54927080",
   "metadata": {
    "tags": []
   },
   "outputs": [
    {
     "name": "stdout",
     "output_type": "stream",
     "text": [
      "Test MSE: 182024.66\n"
     ]
    }
   ],
   "source": [
    "best_model = grid_result.best_estimator_.model\n",
    "test_mse = best_model.evaluate(X_test, y_test, verbose=0)\n",
    "print(f\"Test MSE: {test_mse:.2f}\")\n"
   ]
  },
  {
   "cell_type": "code",
   "execution_count": null,
   "id": "0870cb08-a4f5-4e65-987a-e805005050f9",
   "metadata": {
    "tags": []
   },
   "outputs": [],
   "source": [
    "# Get the best model from the grid search\n",
    "best_model = grid_result.best_estimator_.model\n",
    "\n",
    "# Extract the weights of the best model\n",
    "weights = best_model.get_weights()\n",
    "\n",
    "# Save the weights to a file\n",
    "best_model.save_weights('1_best_model_weights.h5')\n"
   ]
  },
  {
   "cell_type": "code",
   "execution_count": null,
   "id": "6279e92a-d2f8-4edc-9cd6-958fa94759f6",
   "metadata": {},
   "outputs": [],
   "source": [
    "# Load the weights into a compatible model\n",
    "model.load_weights('best_model_weights.h5')\n"
   ]
  },
  {
   "cell_type": "code",
   "execution_count": null,
   "id": "04e96dc0-b58f-4218-8cc0-273a21003ec4",
   "metadata": {},
   "outputs": [],
   "source": []
  },
  {
   "cell_type": "code",
   "execution_count": null,
   "id": "22cba44c-9c5b-4f87-bf2f-f1577018bc66",
   "metadata": {},
   "outputs": [],
   "source": []
  }
 ],
 "metadata": {
  "kernelspec": {
   "display_name": "Python 3 (ipykernel)",
   "language": "python",
   "name": "python3"
  },
  "language_info": {
   "codemirror_mode": {
    "name": "ipython",
    "version": 3
   },
   "file_extension": ".py",
   "mimetype": "text/x-python",
   "name": "python",
   "nbconvert_exporter": "python",
   "pygments_lexer": "ipython3",
   "version": "3.11.3"
  }
 },
 "nbformat": 4,
 "nbformat_minor": 5
}

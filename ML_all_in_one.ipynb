{
 "cells": [
  {
   "cell_type": "code",
   "execution_count": 2,
   "metadata": {},
   "outputs": [
    {
     "name": "stderr",
     "output_type": "stream",
     "text": [
      "c:\\Users\\remy\\AppData\\Local\\Programs\\Python\\Python311\\Lib\\site-packages\\IPython\\core\\interactiveshell.py:3445: FutureWarning: The `op` parameter is deprecated and will be removed in a future release. Please use the `predicate` parameter instead.\n",
      "  if await self.run_code(code, result, async_=asy):\n",
      "C:\\Users\\remy\\AppData\\Local\\Temp\\ipykernel_9584\\4000431899.py:16: UserWarning: CRS mismatch between the CRS of left geometries and the CRS of right geometries.\n",
      "Use `to_crs()` to reproject one of the input geometries to match the CRS of the other.\n",
      "\n",
      "Left CRS: None\n",
      "Right CRS: EPSG:4326\n",
      "\n",
      "  joined = gpd.sjoin(gdf, areas, how='inner', op='within')\n"
     ]
    }
   ],
   "source": [
    "import pandas as pd\n",
    "import geopandas as gpd\n",
    "import folium\n",
    "from branca.colormap import linear\n",
    "\n",
    "# Read the DataFrame\n",
    "df = pd.read_csv('swiss_no_outliers_and_cleaned.csv')\n",
    "\n",
    "# Create a GeoDataFrame from the DataFrame\n",
    "gdf = gpd.GeoDataFrame(df, geometry=gpd.points_from_xy(df.Address_Longitude, df.Address_Latitude))\n",
    "\n",
    "# Load GeoJSON data into a GeoDataFrame\n",
    "areas = gpd.read_file('GEN_A4_GEMEINDEN_2019_epsg4326.json')\n",
    "\n",
    "# Perform spatial join\n",
    "joined = gpd.sjoin(gdf, areas, how='inner', op='within')\n",
    "\n",
    "# Calculate average rent for each area\n",
    "joined['Rent'] = joined['Rent'].astype(float)  # Ensure 'Rent' is float type\n",
    "area_avg_rent = joined.groupby('NAME')['Rent'].mean()\n",
    "\n",
    "# Create a map centered at Zurich\n",
    "map_zurich = folium.Map(location=[47.3769, 8.5417], zoom_start=12)\n",
    "\n",
    "# Create a colormap for the choropleth\n",
    "colormap = linear.YlOrRd_09.scale(area_avg_rent.min(), area_avg_rent.max())\n",
    "\n",
    "# Add the color legend to the map\n",
    "colormap.add_to(map_zurich)\n",
    "\n",
    "# Convert the area_avg_rent Series to a DataFrame for easier merging\n",
    "df_area_avg_rent = area_avg_rent.reset_index()\n",
    "\n",
    "# Merge the areas GeoDataFrame with the average rent DataFrame\n",
    "merged = areas.merge(df_area_avg_rent, how='left', left_on='NAME', right_on='NAME')\n",
    "\n",
    "# Create the choropleth map\n",
    "folium.Choropleth(\n",
    "    geo_data=merged,\n",
    "    name='choropleth',\n",
    "    data=merged,\n",
    "    columns=['NAME', 'Rent'],\n",
    "    key_on='feature.properties.NAME',\n",
    "    fill_color='YlOrRd',\n",
    "    fill_opacity=0.7,\n",
    "    line_opacity=0.2,\n",
    "    nan_fill_color='white',  # Color for areas with no data\n",
    "    legend_name='Average Rent',\n",
    ").add_to(map_zurich)\n",
    "\n",
    "map_zurich.save(\"zurich_map.html\")\n"
   ]
  }
 ],
 "metadata": {
  "kernelspec": {
   "display_name": "Python 3",
   "language": "python",
   "name": "python3"
  },
  "language_info": {
   "codemirror_mode": {
    "name": "ipython",
    "version": 3
   },
   "file_extension": ".py",
   "mimetype": "text/x-python",
   "name": "python",
   "nbconvert_exporter": "python",
   "pygments_lexer": "ipython3",
   "version": "3.11.3"
  },
  "orig_nbformat": 4
 },
 "nbformat": 4,
 "nbformat_minor": 2
}
